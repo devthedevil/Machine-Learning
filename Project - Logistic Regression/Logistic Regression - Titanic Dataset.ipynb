{
 "cells": [
  {
   "cell_type": "code",
   "execution_count": 2,
   "metadata": {},
   "outputs": [],
   "source": [
    "import numpy as np\n",
    "import pandas as pd\n",
    "from sklearn.linear_model import LogisticRegression"
   ]
  },
  {
   "cell_type": "code",
   "execution_count": 3,
   "metadata": {},
   "outputs": [],
   "source": [
    "def f(s):\n",
    "    if s=='male':\n",
    "        return 1\n",
    "    else:\n",
    "        return 0"
   ]
  },
  {
   "cell_type": "code",
   "execution_count": 8,
   "metadata": {},
   "outputs": [],
   "source": [
    "def g(s):\n",
    "    if s==\"Q\":\n",
    "        return 1\n",
    "    elif s==\"C\":\n",
    "        return 2\n",
    "    else:\n",
    "        return 3"
   ]
  },
  {
   "cell_type": "code",
   "execution_count": 27,
   "metadata": {},
   "outputs": [
    {
     "name": "stderr",
     "output_type": "stream",
     "text": [
      "C:\\Users\\Dev\\Anaconda3\\lib\\site-packages\\sklearn\\linear_model\\logistic.py:432: FutureWarning: Default solver will be changed to 'lbfgs' in 0.22. Specify a solver to silence this warning.\n",
      "  FutureWarning)\n"
     ]
    }
   ],
   "source": [
    "data_train=pd.read_csv(\"titanic_train.csv\")\n",
    "data_test=pd.read_csv(\"titanic_test.csv\")\n",
    "del data_train['Name']\n",
    "del data_train['Fare']\n",
    "del data_train['Ticket']\n",
    "del data_train['Cabin']\n",
    "data_train['Sex']=data_train.Sex.apply(f)\n",
    "meanS=data_train[data_train.Survived==1].Age.mean()\n",
    "data_train[\"Age\"]=np.where(pd.isnull(data_train.Age) & data_train[\"Survived\"]==1,meanS,data_train[\"Age\"])\n",
    "meanNS=data_train[data_train.Survived==0].Age.mean()\n",
    "# meanNS\n",
    "data_train.Age.fillna(meanNS,inplace=True)\n",
    "# data_train[\"Age\"]=np.where(pd.isnull(data_train.Age) & data_train[\"Survived\"]==0,meanNS,data_train[\"Age\"])\n",
    "data_train[\"Embarked\"]=data_train.Embarked.apply(g)\n",
    "\n",
    "\n",
    "del data_test['Name']\n",
    "del data_test['Fare']\n",
    "del data_test['Ticket']\n",
    "del data_test['Cabin']\n",
    "data_test['Sex']=data_test.Sex.apply(f)\n",
    "mean=data_test.Age.mean()\n",
    "# data_test[\"Age\"]=np.where(pd.isnull(data_test.Age) & data_test[\"Survived\"]==1,meanS,data_test[\"Age\"])\n",
    "# meanNS=data_test[data_test.Survived==0].Age.mean()\n",
    "data_test.Age.fillna(mean,inplace=True)\n",
    "# data_train[\"Age\"]=np.where(pd.isnull(data_train.Age) & data_train[\"Survived\"]==0,meanNS,data_train[\"Age\"])\n",
    "data_test[\"Embarked\"]=data_test.Embarked.apply(g)\n",
    "\n",
    "data_train.describe()\n",
    "# type(data_train)\n",
    "x_train=data_train.iloc[:,:-1]\n",
    "y_train=data_train.iloc[:,-1]\n",
    "x_test=data_test\n",
    "clf=LogisticRegression()\n",
    "clf.fit(x_train,y_train)\n",
    "y_pred=clf.predict(x_test)\n",
    "np.savetxt(\"output.csv\",y_pred,delimiter=',',fmt=\"%1.5f\")"
   ]
  }
 ],
 "metadata": {
  "kernelspec": {
   "display_name": "Python 3",
   "language": "python",
   "name": "python3"
  },
  "language_info": {
   "codemirror_mode": {
    "name": "ipython",
    "version": 3
   },
   "file_extension": ".py",
   "mimetype": "text/x-python",
   "name": "python",
   "nbconvert_exporter": "python",
   "pygments_lexer": "ipython3",
   "version": "3.7.4"
  }
 },
 "nbformat": 4,
 "nbformat_minor": 2
}

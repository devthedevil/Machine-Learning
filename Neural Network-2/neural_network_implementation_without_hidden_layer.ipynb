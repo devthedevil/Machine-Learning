{
 "cells": [
  {
   "cell_type": "code",
   "execution_count": 1,
   "metadata": {},
   "outputs": [],
   "source": [
    "# we just have only one output unit layer\n",
    "# we don't have any hidden layer\n",
    "import numpy as np"
   ]
  },
  {
   "cell_type": "code",
   "execution_count": 2,
   "metadata": {},
   "outputs": [
    {
     "name": "stdout",
     "output_type": "stream",
     "text": [
      "(4, 2) (4, 1)\n"
     ]
    }
   ],
   "source": [
    "# taking 'and' gate\n",
    "x=np.array([[0,0],[0,1],[1,0],[1,1]])\n",
    "y=np.array([[0,0,0,1]]).T\n",
    "print(x.shape,y.shape)"
   ]
  },
  {
   "cell_type": "code",
   "execution_count": 3,
   "metadata": {},
   "outputs": [],
   "source": [
    "def sig(z):\n",
    "    return 1/(1+np.exp(-z))"
   ]
  },
  {
   "cell_type": "code",
   "execution_count": 4,
   "metadata": {},
   "outputs": [],
   "source": [
    "def derivativeSig(z):\n",
    "    return sig(z)*(1-sig(z))"
   ]
  },
  {
   "cell_type": "code",
   "execution_count": 28,
   "metadata": {},
   "outputs": [
    {
     "data": {
      "text/plain": [
       "(array([[0.46883851],\n",
       "        [0.2125628 ]]), array([0.29160148]))"
      ]
     },
     "execution_count": 28,
     "metadata": {},
     "output_type": "execute_result"
    }
   ],
   "source": [
    "# no hidden layer weights\n",
    "# weights=np.random.random((2,1))  it ranges from 0 to 1\n",
    "# we have to make it from -1 to 1 \n",
    "# for that we can apply this\n",
    "weights=2*np.random.random((2,1))-1\n",
    "bias=2*np.random.random(1)-1\n",
    "lr=0.1\n",
    "weights,bias"
   ]
  },
  {
   "cell_type": "code",
   "execution_count": 6,
   "metadata": {},
   "outputs": [
    {
     "data": {
      "text/plain": [
       "(array([[0.92971343],\n",
       "        [0.26215461]]), array([-1.09534729]), array([[0.25061269],\n",
       "        [0.30297042],\n",
       "        [0.45868594],\n",
       "        [0.52411147]]))"
      ]
     },
     "execution_count": 6,
     "metadata": {},
     "output_type": "execute_result"
    }
   ],
   "source": [
    "# forward propagation without any hidden layer \n",
    "for iter in range(1000):\n",
    "    output0=x\n",
    "    output=sig(np.dot(output0,weights)+bias)\n",
    "\n",
    "    first_term=output-y\n",
    "    input_for_last_layer=np.dot(output0,weights)+bias\n",
    "    second_term=derivativeSig(input_for_last_layer)\n",
    "    first_two=first_term*second_term\n",
    "    \n",
    "    changes=np.array([[0.0],[0.0]])\n",
    "    for i in range(2):\n",
    "        for j in range(len(first_two)):\n",
    "            changes[i][0]+=first_two[j][0]*output0[j][i]\n",
    "    weights-=lr*changes\n",
    "\n",
    "    bias_changes=0.0\n",
    "    for j in range(len(first_two)):\n",
    "        bias_changes+=first_two[j][0]*1\n",
    "    bias-=lr*bias_changes\n",
    "output=sig(np.dot(output0,weights)+bias)\n",
    "weights,bias,output"
   ]
  },
  {
   "cell_type": "code",
   "execution_count": 29,
   "metadata": {},
   "outputs": [
    {
     "data": {
      "text/plain": [
       "(array([[5.47759131],\n",
       "        [5.47759131]]), array([-8.30908723]), array([[2.46208093e-04],\n",
       "        [5.56457358e-02],\n",
       "        [5.56457360e-02],\n",
       "        [9.33769923e-01]]))"
      ]
     },
     "execution_count": 29,
     "metadata": {},
     "output_type": "execute_result"
    }
   ],
   "source": [
    "# forward propagation without any hidden layer \n",
    "# optimization in code\n",
    "for iter in range(10000):\n",
    "    output0=x\n",
    "    output=sig(np.dot(output0,weights)+bias)\n",
    "\n",
    "    first_term=output-y\n",
    "    input_for_last_layer=np.dot(output0,weights)+bias\n",
    "    second_term=derivativeSig(input_for_last_layer)\n",
    "    first_two=first_term*second_term\n",
    "    \n",
    "    \n",
    "    changes=np.dot(output0.T,first_two)\n",
    "    weights-=lr*changes\n",
    "    bias_changes=np.sum(first_two)\n",
    "    bias-=lr*bias_changes\n",
    "output=sig(np.dot(output0,weights)+bias)\n",
    "weights,bias,output\n",
    "# output0.T,first_two"
   ]
  },
  {
   "cell_type": "code",
   "execution_count": null,
   "metadata": {},
   "outputs": [],
   "source": []
  },
  {
   "cell_type": "code",
   "execution_count": null,
   "metadata": {},
   "outputs": [],
   "source": []
  }
 ],
 "metadata": {
  "kernelspec": {
   "display_name": "Python 3",
   "language": "python",
   "name": "python3"
  },
  "language_info": {
   "codemirror_mode": {
    "name": "ipython",
    "version": 3
   },
   "file_extension": ".py",
   "mimetype": "text/x-python",
   "name": "python",
   "nbconvert_exporter": "python",
   "pygments_lexer": "ipython3",
   "version": "3.7.4"
  }
 },
 "nbformat": 4,
 "nbformat_minor": 2
}

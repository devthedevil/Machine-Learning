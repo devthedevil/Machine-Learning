{
 "cells": [
  {
   "cell_type": "code",
   "execution_count": 1,
   "metadata": {},
   "outputs": [
    {
     "name": "stderr",
     "output_type": "stream",
     "text": [
      "Using TensorFlow backend.\n"
     ]
    }
   ],
   "source": [
    "from keras.models import Sequential\n",
    "from keras.layers import Dense\n",
    "from sklearn import datasets"
   ]
  },
  {
   "cell_type": "code",
   "execution_count": 2,
   "metadata": {},
   "outputs": [],
   "source": [
    "cancer = datasets.load_breast_cancer()\n",
    "from sklearn.model_selection import train_test_split\n",
    "\n",
    "x_train,x_test,y_train,y_test=train_test_split(cancer.data,cancer.target,test_size=0.2,random_state=0)"
   ]
  },
  {
   "cell_type": "markdown",
   "metadata": {},
   "source": [
    "Scaling the data"
   ]
  },
  {
   "cell_type": "code",
   "execution_count": 3,
   "metadata": {},
   "outputs": [],
   "source": [
    "from sklearn.preprocessing import StandardScaler\n",
    "sc = StandardScaler()\n",
    "x_train=sc.fit_transform(x_train)\n",
    "x_test=sc.transform(x_test)"
   ]
  },
  {
   "cell_type": "markdown",
   "metadata": {},
   "source": [
    "1) Creating a model"
   ]
  },
  {
   "cell_type": "code",
   "execution_count": 4,
   "metadata": {},
   "outputs": [],
   "source": [
    "model=Sequential()"
   ]
  },
  {
   "cell_type": "markdown",
   "metadata": {},
   "source": [
    "2) Creating the layers(dense layers)"
   ]
  },
  {
   "cell_type": "code",
   "execution_count": 5,
   "metadata": {},
   "outputs": [],
   "source": [
    "layer1=Dense(units=32,activation='relu',input_dim=30)\n",
    "model.add(layer1)\n",
    "model.add(Dense(units=16,activation='relu'))\n",
    "model.add(Dense(units=1,activation='sigmoid'))"
   ]
  },
  {
   "cell_type": "markdown",
   "metadata": {},
   "source": [
    "3)  Compiling our model"
   ]
  },
  {
   "cell_type": "code",
   "execution_count": 6,
   "metadata": {},
   "outputs": [],
   "source": [
    "model.compile(optimizer='adam',loss='binary_crossentropy',\n",
    "              metrics=['accuracy'])"
   ]
  },
  {
   "cell_type": "markdown",
   "metadata": {},
   "source": [
    "4) Fitting the training data"
   ]
  },
  {
   "cell_type": "code",
   "execution_count": 7,
   "metadata": {},
   "outputs": [
    {
     "name": "stdout",
     "output_type": "stream",
     "text": [
      "Train on 455 samples, validate on 114 samples\n",
      "Epoch 1/50\n",
      "455/455 [==============================] - 0s 349us/step - loss: 0.5498 - accuracy: 0.7429 - val_loss: 0.4444 - val_accuracy: 0.8772\n",
      "Epoch 2/50\n",
      "455/455 [==============================] - 0s 64us/step - loss: 0.4164 - accuracy: 0.9077 - val_loss: 0.3441 - val_accuracy: 0.9386\n",
      "Epoch 3/50\n",
      "455/455 [==============================] - 0s 71us/step - loss: 0.3201 - accuracy: 0.9560 - val_loss: 0.2698 - val_accuracy: 0.9649\n",
      "Epoch 4/50\n",
      "455/455 [==============================] - 0s 63us/step - loss: 0.2496 - accuracy: 0.9648 - val_loss: 0.2155 - val_accuracy: 0.9649\n",
      "Epoch 5/50\n",
      "455/455 [==============================] - 0s 57us/step - loss: 0.1973 - accuracy: 0.9692 - val_loss: 0.1789 - val_accuracy: 0.9561\n",
      "Epoch 6/50\n",
      "455/455 [==============================] - 0s 47us/step - loss: 0.1627 - accuracy: 0.9714 - val_loss: 0.1552 - val_accuracy: 0.9474\n",
      "Epoch 7/50\n",
      "455/455 [==============================] - 0s 56us/step - loss: 0.1393 - accuracy: 0.9758 - val_loss: 0.1385 - val_accuracy: 0.9561\n",
      "Epoch 8/50\n",
      "455/455 [==============================] - 0s 45us/step - loss: 0.1230 - accuracy: 0.9736 - val_loss: 0.1272 - val_accuracy: 0.9474\n",
      "Epoch 9/50\n",
      "455/455 [==============================] - 0s 49us/step - loss: 0.1116 - accuracy: 0.9736 - val_loss: 0.1194 - val_accuracy: 0.9474\n",
      "Epoch 10/50\n",
      "455/455 [==============================] - 0s 59us/step - loss: 0.1024 - accuracy: 0.9736 - val_loss: 0.1114 - val_accuracy: 0.9474\n",
      "Epoch 11/50\n",
      "455/455 [==============================] - 0s 68us/step - loss: 0.0955 - accuracy: 0.9802 - val_loss: 0.1063 - val_accuracy: 0.9386\n",
      "Epoch 12/50\n",
      "455/455 [==============================] - 0s 42us/step - loss: 0.0898 - accuracy: 0.9802 - val_loss: 0.1021 - val_accuracy: 0.9474\n",
      "Epoch 13/50\n",
      "455/455 [==============================] - 0s 65us/step - loss: 0.0851 - accuracy: 0.9780 - val_loss: 0.0993 - val_accuracy: 0.9561\n",
      "Epoch 14/50\n",
      "455/455 [==============================] - 0s 61us/step - loss: 0.0808 - accuracy: 0.9780 - val_loss: 0.0965 - val_accuracy: 0.9561\n",
      "Epoch 15/50\n",
      "455/455 [==============================] - 0s 55us/step - loss: 0.0775 - accuracy: 0.9802 - val_loss: 0.0939 - val_accuracy: 0.9561\n",
      "Epoch 16/50\n",
      "455/455 [==============================] - 0s 55us/step - loss: 0.0740 - accuracy: 0.9802 - val_loss: 0.0906 - val_accuracy: 0.9649\n",
      "Epoch 17/50\n",
      "455/455 [==============================] - 0s 75us/step - loss: 0.0711 - accuracy: 0.9846 - val_loss: 0.0889 - val_accuracy: 0.9649\n",
      "Epoch 18/50\n",
      "455/455 [==============================] - 0s 57us/step - loss: 0.0684 - accuracy: 0.9846 - val_loss: 0.0879 - val_accuracy: 0.9649\n",
      "Epoch 19/50\n",
      "455/455 [==============================] - 0s 64us/step - loss: 0.0659 - accuracy: 0.9846 - val_loss: 0.0876 - val_accuracy: 0.9649\n",
      "Epoch 20/50\n",
      "455/455 [==============================] - 0s 47us/step - loss: 0.0642 - accuracy: 0.9846 - val_loss: 0.0872 - val_accuracy: 0.9649\n",
      "Epoch 21/50\n",
      "455/455 [==============================] - 0s 55us/step - loss: 0.0621 - accuracy: 0.9846 - val_loss: 0.0868 - val_accuracy: 0.9737\n",
      "Epoch 22/50\n",
      "455/455 [==============================] - 0s 50us/step - loss: 0.0604 - accuracy: 0.9846 - val_loss: 0.0861 - val_accuracy: 0.9737\n",
      "Epoch 23/50\n",
      "455/455 [==============================] - 0s 54us/step - loss: 0.0588 - accuracy: 0.9868 - val_loss: 0.0865 - val_accuracy: 0.9737\n",
      "Epoch 24/50\n",
      "455/455 [==============================] - 0s 59us/step - loss: 0.0575 - accuracy: 0.9868 - val_loss: 0.0872 - val_accuracy: 0.9737\n",
      "Epoch 25/50\n",
      "455/455 [==============================] - 0s 79us/step - loss: 0.0560 - accuracy: 0.9868 - val_loss: 0.0871 - val_accuracy: 0.9737\n",
      "Epoch 26/50\n",
      "455/455 [==============================] - 0s 52us/step - loss: 0.0547 - accuracy: 0.9868 - val_loss: 0.0881 - val_accuracy: 0.9737\n",
      "Epoch 27/50\n",
      "455/455 [==============================] - 0s 59us/step - loss: 0.0535 - accuracy: 0.9868 - val_loss: 0.0893 - val_accuracy: 0.9737\n",
      "Epoch 28/50\n",
      "455/455 [==============================] - 0s 44us/step - loss: 0.0524 - accuracy: 0.9868 - val_loss: 0.0915 - val_accuracy: 0.9737\n",
      "Epoch 29/50\n",
      "455/455 [==============================] - 0s 41us/step - loss: 0.0516 - accuracy: 0.9868 - val_loss: 0.0926 - val_accuracy: 0.9649\n",
      "Epoch 30/50\n",
      "455/455 [==============================] - 0s 46us/step - loss: 0.0502 - accuracy: 0.9890 - val_loss: 0.0938 - val_accuracy: 0.9649\n",
      "Epoch 31/50\n",
      "455/455 [==============================] - 0s 41us/step - loss: 0.0490 - accuracy: 0.9890 - val_loss: 0.0947 - val_accuracy: 0.9649\n",
      "Epoch 32/50\n",
      "455/455 [==============================] - 0s 42us/step - loss: 0.0482 - accuracy: 0.9890 - val_loss: 0.0957 - val_accuracy: 0.9649\n",
      "Epoch 33/50\n",
      "455/455 [==============================] - 0s 59us/step - loss: 0.0471 - accuracy: 0.9890 - val_loss: 0.0970 - val_accuracy: 0.9737\n",
      "Epoch 34/50\n",
      "455/455 [==============================] - 0s 43us/step - loss: 0.0461 - accuracy: 0.9890 - val_loss: 0.0979 - val_accuracy: 0.9561\n",
      "Epoch 35/50\n",
      "455/455 [==============================] - 0s 52us/step - loss: 0.0450 - accuracy: 0.9890 - val_loss: 0.1010 - val_accuracy: 0.9649\n",
      "Epoch 36/50\n",
      "455/455 [==============================] - 0s 42us/step - loss: 0.0445 - accuracy: 0.9912 - val_loss: 0.1024 - val_accuracy: 0.9737\n",
      "Epoch 37/50\n",
      "455/455 [==============================] - 0s 56us/step - loss: 0.0436 - accuracy: 0.9912 - val_loss: 0.1041 - val_accuracy: 0.9649\n",
      "Epoch 38/50\n",
      "455/455 [==============================] - 0s 42us/step - loss: 0.0427 - accuracy: 0.9912 - val_loss: 0.1052 - val_accuracy: 0.9649\n",
      "Epoch 39/50\n",
      "455/455 [==============================] - 0s 56us/step - loss: 0.0419 - accuracy: 0.9912 - val_loss: 0.1063 - val_accuracy: 0.9649\n",
      "Epoch 40/50\n",
      "455/455 [==============================] - 0s 72us/step - loss: 0.0412 - accuracy: 0.9912 - val_loss: 0.1067 - val_accuracy: 0.9649\n",
      "Epoch 41/50\n",
      "455/455 [==============================] - 0s 54us/step - loss: 0.0405 - accuracy: 0.9912 - val_loss: 0.1070 - val_accuracy: 0.9649\n",
      "Epoch 42/50\n",
      "455/455 [==============================] - 0s 38us/step - loss: 0.0398 - accuracy: 0.9912 - val_loss: 0.1078 - val_accuracy: 0.9561\n",
      "Epoch 43/50\n",
      "455/455 [==============================] - 0s 43us/step - loss: 0.0390 - accuracy: 0.9912 - val_loss: 0.1100 - val_accuracy: 0.9649\n",
      "Epoch 44/50\n",
      "455/455 [==============================] - 0s 49us/step - loss: 0.0386 - accuracy: 0.9912 - val_loss: 0.1112 - val_accuracy: 0.9649\n",
      "Epoch 45/50\n",
      "455/455 [==============================] - 0s 61us/step - loss: 0.0379 - accuracy: 0.9912 - val_loss: 0.1120 - val_accuracy: 0.9649\n",
      "Epoch 46/50\n",
      "455/455 [==============================] - 0s 47us/step - loss: 0.0376 - accuracy: 0.9912 - val_loss: 0.1095 - val_accuracy: 0.9649\n",
      "Epoch 47/50\n",
      "455/455 [==============================] - 0s 74us/step - loss: 0.0375 - accuracy: 0.9912 - val_loss: 0.1092 - val_accuracy: 0.9737\n",
      "Epoch 48/50\n",
      "455/455 [==============================] - 0s 81us/step - loss: 0.0377 - accuracy: 0.9912 - val_loss: 0.1110 - val_accuracy: 0.9737\n",
      "Epoch 49/50\n",
      "455/455 [==============================] - 0s 56us/step - loss: 0.0367 - accuracy: 0.9912 - val_loss: 0.1097 - val_accuracy: 0.9737\n",
      "Epoch 50/50\n",
      "455/455 [==============================] - 0s 52us/step - loss: 0.0358 - accuracy: 0.9912 - val_loss: 0.1109 - val_accuracy: 0.9737\n"
     ]
    },
    {
     "data": {
      "text/plain": [
       "<keras.callbacks.callbacks.History at 0x7f978c59bd90>"
      ]
     },
     "execution_count": 7,
     "metadata": {},
     "output_type": "execute_result"
    }
   ],
   "source": [
    "model.fit(x_train,y_train,epochs=50,batch_size=50,\n",
    "         validation_data=(x_test,y_test))"
   ]
  },
  {
   "cell_type": "markdown",
   "metadata": {},
   "source": [
    "Predict and Evaluate"
   ]
  },
  {
   "cell_type": "code",
   "execution_count": 8,
   "metadata": {},
   "outputs": [
    {
     "data": {
      "text/plain": [
       "array([[4.2513013e-04],\n",
       "       [9.2131233e-01],\n",
       "       [9.9843538e-01],\n",
       "       [9.9060988e-01],\n",
       "       [9.9654472e-01],\n",
       "       [9.9691522e-01],\n",
       "       [9.9903196e-01],\n",
       "       [9.9797231e-01],\n",
       "       [9.9974042e-01],\n",
       "       [9.9999094e-01],\n",
       "       [7.4109083e-01],\n",
       "       [9.1381109e-01],\n",
       "       [9.9982905e-01],\n",
       "       [3.8918284e-01],\n",
       "       [6.8414712e-01],\n",
       "       [3.0094385e-04],\n",
       "       [9.9970114e-01],\n",
       "       [3.0681036e-07],\n",
       "       [2.8234039e-05],\n",
       "       [3.8514525e-10],\n",
       "       [3.3364594e-03],\n",
       "       [6.9105625e-04],\n",
       "       [9.8574913e-01],\n",
       "       [9.9838609e-01],\n",
       "       [2.5626021e-05],\n",
       "       [9.9951923e-01],\n",
       "       [9.9993682e-01],\n",
       "       [1.5386343e-03],\n",
       "       [9.9848920e-01],\n",
       "       [6.0354398e-07],\n",
       "       [9.9981654e-01],\n",
       "       [4.6581768e-05],\n",
       "       [9.5626664e-01],\n",
       "       [3.3053756e-04],\n",
       "       [9.9999380e-01],\n",
       "       [2.6613474e-04],\n",
       "       [9.8676240e-01],\n",
       "       [1.6996264e-04],\n",
       "       [9.9042130e-01],\n",
       "       [3.5327673e-04],\n",
       "       [9.5763862e-02],\n",
       "       [9.9994004e-01],\n",
       "       [6.1483979e-02],\n",
       "       [9.9989605e-01],\n",
       "       [9.9757689e-01],\n",
       "       [1.5257914e-09],\n",
       "       [9.9999249e-01],\n",
       "       [9.6123439e-01],\n",
       "       [9.9805224e-01],\n",
       "       [3.7749858e-06],\n",
       "       [8.1181761e-06],\n",
       "       [1.9732356e-02],\n",
       "       [6.1240708e-06],\n",
       "       [9.9883920e-01],\n",
       "       [9.9689317e-01],\n",
       "       [9.9963421e-01],\n",
       "       [9.9777889e-01],\n",
       "       [9.9236381e-01],\n",
       "       [9.9055398e-01],\n",
       "       [4.4097531e-10],\n",
       "       [1.5980899e-03],\n",
       "       [3.8626790e-04],\n",
       "       [9.9994820e-01],\n",
       "       [9.9678147e-01],\n",
       "       [4.4035912e-04],\n",
       "       [9.4107282e-01],\n",
       "       [1.4383201e-15],\n",
       "       [8.7705530e-08],\n",
       "       [3.0513485e-07],\n",
       "       [9.9838358e-01],\n",
       "       [7.1014535e-01],\n",
       "       [7.2924428e-07],\n",
       "       [9.9838603e-01],\n",
       "       [6.7258626e-02],\n",
       "       [5.7179268e-08],\n",
       "       [9.7013426e-01],\n",
       "       [9.9997354e-01],\n",
       "       [9.8396719e-01],\n",
       "       [9.9960446e-01],\n",
       "       [9.9990404e-01],\n",
       "       [4.7246218e-03],\n",
       "       [8.8892115e-13],\n",
       "       [7.5488697e-07],\n",
       "       [9.9929953e-01],\n",
       "       [3.5172701e-03],\n",
       "       [9.9958026e-01],\n",
       "       [9.9976158e-01],\n",
       "       [9.9998564e-01],\n",
       "       [6.0996372e-06],\n",
       "       [2.7433326e-13],\n",
       "       [9.9997061e-01],\n",
       "       [2.6783478e-01],\n",
       "       [3.5596448e-01],\n",
       "       [7.4163189e-08],\n",
       "       [9.9756277e-01],\n",
       "       [9.9852616e-01],\n",
       "       [5.7654997e-08],\n",
       "       [9.9968803e-01],\n",
       "       [9.9444568e-01],\n",
       "       [9.9336755e-01],\n",
       "       [1.0000000e+00],\n",
       "       [9.9403590e-01],\n",
       "       [9.8637545e-01],\n",
       "       [8.9870775e-01],\n",
       "       [6.9226921e-06],\n",
       "       [9.9990392e-01],\n",
       "       [5.7211968e-09],\n",
       "       [7.2768259e-01],\n",
       "       [2.9353070e-01],\n",
       "       [9.9952054e-01],\n",
       "       [9.8611838e-01],\n",
       "       [5.8024989e-07],\n",
       "       [1.1883659e-05],\n",
       "       [8.7467551e-01]], dtype=float32)"
      ]
     },
     "execution_count": 8,
     "metadata": {},
     "output_type": "execute_result"
    }
   ],
   "source": [
    "predictions=model.predict(x_test)\n",
    "predictions"
   ]
  },
  {
   "cell_type": "code",
   "execution_count": 10,
   "metadata": {},
   "outputs": [
    {
     "name": "stdout",
     "output_type": "stream",
     "text": [
      "114/114 [==============================] - 0s 78us/step\n"
     ]
    },
    {
     "data": {
      "text/plain": [
       "[0.11091203229469165, 0.9736841917037964]"
      ]
     },
     "execution_count": 10,
     "metadata": {},
     "output_type": "execute_result"
    }
   ],
   "source": [
    "score= model.evaluate(x_test,y_test)\n",
    "score"
   ]
  }
 ],
 "metadata": {
  "kernelspec": {
   "display_name": "Python 3",
   "language": "python",
   "name": "python3"
  },
  "language_info": {
   "codemirror_mode": {
    "name": "ipython",
    "version": 3
   },
   "file_extension": ".py",
   "mimetype": "text/x-python",
   "name": "python",
   "nbconvert_exporter": "python",
   "pygments_lexer": "ipython3",
   "version": "3.7.6"
  }
 },
 "nbformat": 4,
 "nbformat_minor": 4
}

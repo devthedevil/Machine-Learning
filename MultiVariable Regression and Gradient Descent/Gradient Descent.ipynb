{
 "cells": [
  {
   "cell_type": "code",
   "execution_count": 1,
   "metadata": {},
   "outputs": [],
   "source": [
    "import numpy as np"
   ]
  },
  {
   "cell_type": "code",
   "execution_count": 2,
   "metadata": {},
   "outputs": [],
   "source": [
    "def step_grad(data,l_r,m,c):\n",
    "    slope_m=0\n",
    "    slope_c=0\n",
    "    M=len(data)\n",
    "    for i in range(M):\n",
    "        x=data[i,0]\n",
    "        y=data[i,1]\n",
    "        slope_m += (-2/M)*(y-m*x-c)*x\n",
    "        slope_c +=  (-2/M)*(y-m*x-c)*x\n",
    "    new_m=m-l_r*slope_m\n",
    "    new_c=c-l_r*slope_c\n",
    "    return new_m,new_c\n",
    "    "
   ]
  },
  {
   "cell_type": "code",
   "execution_count": 3,
   "metadata": {},
   "outputs": [],
   "source": [
    "def GD(data,l_r,iter):\n",
    "    m=0\n",
    "    c=0\n",
    "    for i in range(iter):\n",
    "        m, c=step_grad(data,l_r,m,c)\n",
    "        print(i,'Cost:',cost(data,m,c))\n",
    "    return m,c"
   ]
  },
  {
   "cell_type": "code",
   "execution_count": 4,
   "metadata": {},
   "outputs": [],
   "source": [
    "def cost(data,m,c):\n",
    "    total_cost=0\n",
    "    M=len(data)\n",
    "    for i in range(M):\n",
    "        x=data[i,0]\n",
    "        y=data[i,1]\n",
    "        total_cost+= (1/M)*(( y - m * x - c)**2)\n",
    "    return total_cost"
   ]
  },
  {
   "cell_type": "code",
   "execution_count": 16,
   "metadata": {},
   "outputs": [],
   "source": [
    "def run():\n",
    "    data=np.loadtxt(\"data.csv\",delimiter=',')\n",
    "    learning_rate=0.0001\n",
    "    iteration=100\n",
    "    m,c=GD(data,learning_rate, iteration)\n",
    "    print(m,c)\n",
    "    \n"
   ]
  },
  {
   "cell_type": "code",
   "execution_count": 17,
   "metadata": {},
   "outputs": [
    {
     "name": "stdout",
     "output_type": "stream",
     "text": [
      "0 Cost: 1432.1696567305503\n",
      "1 Cost: 431.57768655837447\n",
      "2 Cost: 189.3097865611901\n",
      "3 Cost: 130.6395906057231\n",
      "4 Cost: 116.42588382716403\n",
      "5 Cost: 112.9797008574992\n",
      "6 Cost: 112.14282643330826\n",
      "7 Cost: 111.938945444384\n",
      "8 Cost: 111.88895498912902\n",
      "9 Cost: 111.87654088811749\n",
      "10 Cost: 111.87338196901784\n",
      "11 Cost: 111.87254162787148\n",
      "12 Cost: 111.87230098678766\n",
      "13 Cost: 111.87222442380784\n",
      "14 Cost: 111.87219688131584\n",
      "15 Cost: 111.87218578168469\n",
      "16 Cost: 111.87218091399917\n",
      "17 Cost: 111.87217866269668\n",
      "18 Cost: 111.87217758980103\n",
      "19 Cost: 111.87217707033895\n",
      "20 Cost: 111.87217681679358\n",
      "21 Cost: 111.87217669253852\n",
      "22 Cost: 111.87217663152249\n",
      "23 Cost: 111.87217660153053\n",
      "24 Cost: 111.87217658678105\n",
      "25 Cost: 111.87217657952574\n",
      "26 Cost: 111.8721765759564\n",
      "27 Cost: 111.87217657420034\n",
      "28 Cost: 111.87217657333636\n",
      "29 Cost: 111.87217657291133\n",
      "30 Cost: 111.87217657270212\n",
      "31 Cost: 111.87217657259922\n",
      "32 Cost: 111.87217657254861\n",
      "33 Cost: 111.87217657252371\n",
      "34 Cost: 111.87217657251144\n",
      "35 Cost: 111.87217657250535\n",
      "36 Cost: 111.87217657250245\n",
      "37 Cost: 111.87217657250096\n",
      "38 Cost: 111.87217657250027\n",
      "39 Cost: 111.87217657249994\n",
      "40 Cost: 111.87217657249978\n",
      "41 Cost: 111.87217657249967\n",
      "42 Cost: 111.87217657249965\n",
      "43 Cost: 111.87217657249961\n",
      "44 Cost: 111.87217657249961\n",
      "45 Cost: 111.87217657249955\n",
      "46 Cost: 111.8721765724996\n",
      "47 Cost: 111.87217657249957\n",
      "48 Cost: 111.87217657249958\n",
      "49 Cost: 111.87217657249954\n",
      "50 Cost: 111.8721765724995\n",
      "51 Cost: 111.87217657249961\n",
      "52 Cost: 111.87217657249961\n",
      "53 Cost: 111.87217657249961\n",
      "54 Cost: 111.87217657249961\n",
      "55 Cost: 111.87217657249961\n",
      "56 Cost: 111.87217657249961\n",
      "57 Cost: 111.87217657249961\n",
      "58 Cost: 111.87217657249961\n",
      "59 Cost: 111.87217657249961\n",
      "60 Cost: 111.87217657249961\n",
      "61 Cost: 111.87217657249961\n",
      "62 Cost: 111.87217657249961\n",
      "63 Cost: 111.87217657249961\n",
      "64 Cost: 111.87217657249961\n",
      "65 Cost: 111.87217657249961\n",
      "66 Cost: 111.87217657249961\n",
      "67 Cost: 111.87217657249961\n",
      "68 Cost: 111.87217657249961\n",
      "69 Cost: 111.87217657249961\n",
      "70 Cost: 111.87217657249961\n",
      "71 Cost: 111.87217657249961\n",
      "72 Cost: 111.87217657249961\n",
      "73 Cost: 111.87217657249961\n",
      "74 Cost: 111.87217657249961\n",
      "75 Cost: 111.87217657249961\n",
      "76 Cost: 111.87217657249961\n",
      "77 Cost: 111.87217657249961\n",
      "78 Cost: 111.87217657249961\n",
      "79 Cost: 111.87217657249961\n",
      "80 Cost: 111.87217657249961\n",
      "81 Cost: 111.87217657249961\n",
      "82 Cost: 111.87217657249961\n",
      "83 Cost: 111.87217657249961\n",
      "84 Cost: 111.87217657249961\n",
      "85 Cost: 111.87217657249961\n",
      "86 Cost: 111.87217657249961\n",
      "87 Cost: 111.87217657249961\n",
      "88 Cost: 111.87217657249961\n",
      "89 Cost: 111.87217657249961\n",
      "90 Cost: 111.87217657249961\n",
      "91 Cost: 111.87217657249961\n",
      "92 Cost: 111.87217657249961\n",
      "93 Cost: 111.87217657249961\n",
      "94 Cost: 111.87217657249961\n",
      "95 Cost: 111.87217657249961\n",
      "96 Cost: 111.87217657249961\n",
      "97 Cost: 111.87217657249961\n",
      "98 Cost: 111.87217657249961\n",
      "99 Cost: 111.87217657249961\n",
      "1.4509717502781103 1.4509717502781103\n"
     ]
    }
   ],
   "source": [
    "run()"
   ]
  }
 ],
 "metadata": {
  "kernelspec": {
   "display_name": "Python 3",
   "language": "python",
   "name": "python3"
  },
  "language_info": {
   "codemirror_mode": {
    "name": "ipython",
    "version": 3
   },
   "file_extension": ".py",
   "mimetype": "text/x-python",
   "name": "python",
   "nbconvert_exporter": "python",
   "pygments_lexer": "ipython3",
   "version": "3.7.4"
  }
 },
 "nbformat": 4,
 "nbformat_minor": 2
}

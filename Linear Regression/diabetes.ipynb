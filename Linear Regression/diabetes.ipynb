{
 "cells": [
  {
   "cell_type": "code",
   "execution_count": 13,
   "metadata": {},
   "outputs": [],
   "source": [
    "import pandas as pd\n",
    "import numpy as np"
   ]
  },
  {
   "cell_type": "code",
   "execution_count": 14,
   "metadata": {},
   "outputs": [],
   "source": [
    "data_train=np.loadtxt(\"diabetes_train.csv\",delimiter=\",\")\n",
    "data_test=np.loadtxt(\"diabetes_test.csv\",delimiter=\",\")\n",
    "x_train=data_train[:,:-1]\n",
    "y_train=data_train[:,-1]\n",
    "x_test=data_test[:,:]\n",
    "# x_test.shape\n",
    "from sklearn.linear_model import LinearRegression\n",
    "alg1=LinearRegression()\n",
    "alg1.fit(x_train,y_train)\n",
    "y_pred=alg1.predict(x_test)\n",
    "np.savetxt('output.csv',y_pred)"
   ]
  }
 ],
 "metadata": {
  "kernelspec": {
   "display_name": "Python 3",
   "language": "python",
   "name": "python3"
  },
  "language_info": {
   "codemirror_mode": {
    "name": "ipython",
    "version": 3
   },
   "file_extension": ".py",
   "mimetype": "text/x-python",
   "name": "python",
   "nbconvert_exporter": "python",
   "pygments_lexer": "ipython3",
   "version": "3.7.4"
  }
 },
 "nbformat": 4,
 "nbformat_minor": 2
}

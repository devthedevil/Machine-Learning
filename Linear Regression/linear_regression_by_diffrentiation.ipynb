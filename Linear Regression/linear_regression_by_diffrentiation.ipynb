{
 "cells": [
  {
   "cell_type": "code",
   "execution_count": 1,
   "metadata": {},
   "outputs": [],
   "source": [
    "def predict(x,m,c):\n",
    "    y=m*x+c\n",
    "    return y"
   ]
  },
  {
   "cell_type": "code",
   "execution_count": 2,
   "metadata": {},
   "outputs": [],
   "source": [
    "def cost(x,y,m,c):\n",
    "    return ((y - m * x - c )**2).mean()"
   ]
  },
  {
   "cell_type": "code",
   "execution_count": 3,
   "metadata": {},
   "outputs": [],
   "source": [
    "def fit(x,y):\n",
    "    num=(x*y).mean()-x.mean()*y.mean()\n",
    "    den=(x**2).mean()-(x.mean())**2\n",
    "    m=num/den\n",
    "#     m=((x*y).mean()-(x.mean()*y.mean()))/((x**2).mean()-(x.mean())**2)\n",
    "    c=y.mean()-m*x.mean()\n",
    "    return m,c"
   ]
  },
  {
   "cell_type": "code",
   "execution_count": 4,
   "metadata": {},
   "outputs": [],
   "source": [
    "def CD(yp,yt):\n",
    "    u=((yt-yp)**2).sum()\n",
    "    v=((yt-yt.mean())**2).sum()\n",
    "    score=1-(u/v)\n",
    "    return score"
   ]
  },
  {
   "cell_type": "code",
   "execution_count": 5,
   "metadata": {},
   "outputs": [],
   "source": [
    "import numpy as np\n",
    "import pandas as pd"
   ]
  },
  {
   "cell_type": "code",
   "execution_count": 6,
   "metadata": {},
   "outputs": [],
   "source": [
    "data=np.loadtxt(\"data.csv\",delimiter=',')\n",
    "\n",
    "x=data[:,0]\n",
    "y=data[:,1]"
   ]
  },
  {
   "cell_type": "code",
   "execution_count": 7,
   "metadata": {},
   "outputs": [],
   "source": [
    "from sklearn import model_selection\n",
    "x_train,x_test,y_train,y_test=model_selection.train_test_split(x,y,test_size=0.3)"
   ]
  },
  {
   "cell_type": "code",
   "execution_count": 8,
   "metadata": {},
   "outputs": [
    {
     "data": {
      "text/plain": [
       "(70,)"
      ]
     },
     "execution_count": 8,
     "metadata": {},
     "output_type": "execute_result"
    }
   ],
   "source": [
    "x_train.shape"
   ]
  },
  {
   "cell_type": "code",
   "execution_count": 9,
   "metadata": {},
   "outputs": [
    {
     "name": "stdout",
     "output_type": "stream",
     "text": [
      "score_test : 0.5075060346001746\n",
      "score_train : 0.621877601587874\n",
      "m c 1.2847653561829826 9.076329353635202\n",
      "Cost on training data for m 2.163732768606204e-30\n",
      "Cost on training data for m+1 2423.1241135429477\n"
     ]
    }
   ],
   "source": [
    "m,c=fit(x_train,y_train)\n",
    "# test data\n",
    "y_test_pred=predict(x_test,m,c)\n",
    "score_test=CD(y_test_pred,y_test)\n",
    "print(\"score_test :\",score_test)\n",
    "\n",
    "# train data\n",
    "y_train_pred=predict(x_train,m,c)\n",
    "score_train=CD(y_train_pred,y_train)\n",
    "print(\"score_train :\",score_train)\n",
    "print(\"m c\",m,c)\n",
    "\n",
    "print(\"Cost on training data for m\",cost(x_train,y_train_pred,m,c))\n",
    "print(\"Cost on training data for m+1\",cost(x_train,y_train_pred,m+1,c))"
   ]
  },
  {
   "cell_type": "code",
   "execution_count": 14,
   "metadata": {},
   "outputs": [
    {
     "name": "stdout",
     "output_type": "stream",
     "text": [
      "score_test : 0.5075060346001745\n",
      "score_train : 0.6218776015878739\n",
      "m c 1.2847653561829822 9.076329353635224\n",
      "Cost on training data for m 325.4471583289272\n"
     ]
    }
   ],
   "source": [
    "x_train=x_train.reshape(-1,1)\n",
    "x_test=x_test.reshape(-1,1)\n",
    "from sklearn.linear_model import LinearRegression\n",
    "alg1=LinearRegression()\n",
    "alg1.fit(x_train,y_train)\n",
    "print(\"score_test :\",alg1.score(x_test,y_test))\n",
    "print(\"score_train :\",alg1.score(x_train,y_train))\n",
    "# y_test_pred=alg1.predict(x_test)\n",
    "print(\"m c\",alg1.coef_[0],alg1.intercept_)\n",
    "y_train_pred=alg1.predict(x_train)\n",
    "print(\"Cost on training data for m\",cost(x_train,y_train_pred,m,c))"
   ]
  }
 ],
 "metadata": {
  "kernelspec": {
   "display_name": "Python 3",
   "language": "python",
   "name": "python3"
  },
  "language_info": {
   "codemirror_mode": {
    "name": "ipython",
    "version": 3
   },
   "file_extension": ".py",
   "mimetype": "text/x-python",
   "name": "python",
   "nbconvert_exporter": "python",
   "pygments_lexer": "ipython3",
   "version": "3.7.4"
  }
 },
 "nbformat": 4,
 "nbformat_minor": 2
}

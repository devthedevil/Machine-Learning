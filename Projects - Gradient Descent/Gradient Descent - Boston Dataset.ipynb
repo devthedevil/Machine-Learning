{
 "cells": [
  {
   "cell_type": "code",
   "execution_count": 13,
   "metadata": {},
   "outputs": [],
   "source": [
    "import numpy as np\n",
    "import pandas as pd"
   ]
  },
  {
   "cell_type": "code",
   "execution_count": 12,
   "metadata": {},
   "outputs": [],
   "source": [
    "def step_grad(x_train,y_train,l_r,m):\n",
    "    n=len(x_train[0])\n",
    "    slope_m=np.zeros(n)\n",
    "    M=len(x_train)\n",
    "    for i in range(M):\n",
    "        x=x_train[i]\n",
    "        y=y_train[i]\n",
    "        for j in range(n):\n",
    "            slope_m[j] += (-2/M)*(y-(m*x).sum())*x[j]\n",
    "        \n",
    "    \n",
    "    for j in range(n):\n",
    "        m[j]=m[j]-l_r*slope_m[j]\n",
    "    return m\n",
    "    "
   ]
  },
  {
   "cell_type": "code",
   "execution_count": 14,
   "metadata": {},
   "outputs": [],
   "source": [
    "def GD(x_train,y_train,l_r,iter):\n",
    "    m=np.zeros(len(x_train[0]))\n",
    "    for i in range(iter):\n",
    "        m=step_grad(x_train,y_train,l_r,m)\n",
    "        if i%50==0:\n",
    "            print(i,'Cost:',cost(x_train,y_train,m))\n",
    "    return m"
   ]
  },
  {
   "cell_type": "code",
   "execution_count": 15,
   "metadata": {},
   "outputs": [],
   "source": [
    "def cost(x_train,y_train,m):\n",
    "    n=len(x_train[0])\n",
    "    total_cost=0\n",
    "    M=len(x_train)\n",
    "    for i in range(M):\n",
    "        total_cost+= (1/M)*(( y_train[i]- (m*x_train[i]).sum())**2)\n",
    "    return total_cost"
   ]
  },
  {
   "cell_type": "code",
   "execution_count": 27,
   "metadata": {},
   "outputs": [
    {
     "name": "stdout",
     "output_type": "stream",
     "text": [
      "0 Cost: 472.10122053351836\n",
      "50 Cost: 24.272587059507785\n",
      "100 Cost: 23.684350042529907\n",
      "150 Cost: 23.552257546033065\n",
      "200 Cost: 23.506200017901936\n",
      "250 Cost: 23.48596856324361\n",
      "300 Cost: 23.476150251047624\n",
      "350 Cost: 23.471209414707666\n",
      "400 Cost: 23.468692136555898\n",
      "450 Cost: 23.467404312461312\n",
      "500 Cost: 23.466744561577826\n",
      "550 Cost: 23.46640641665462\n",
      "600 Cost: 23.466233079222928\n"
     ]
    }
   ],
   "source": [
    "data_train=np.loadtxt(\"boston_train.csv\",delimiter=',')\n",
    "data_test=np.loadtxt(\"boston_test.csv\",delimiter=',')\n",
    "learning_rate=0.05\n",
    "iteration=601\n",
    "x_train=data_train[:,:-1]\n",
    "y_train=data_train[:,-1]\n",
    "\n",
    "x_train=np.append(x_train,np.ones((len(x_train),1)),axis=1)\n",
    "#     data_train\n",
    "m=GD(x_train,y_train,learning_rate, iteration)\n",
    "\n",
    "x_test=data_test\n",
    "x_test=np.append(x_test,np.ones((len(x_test),1)),axis=1)\n",
    "N=len(x_test[0])\n",
    "M=len(x_test)\n",
    "y_pred=np.zeros(M)\n",
    "for i in range(M):\n",
    "    y_pred[i]=(m*x_test[i]).sum()\n",
    "        \n",
    "    \n",
    "np.savetxt(\"boston_pred.csv\",y_pred,delimiter=',',fmt='%1.5f')\n",
    "\n",
    "    \n"
   ]
  },
  {
   "cell_type": "code",
   "execution_count": null,
   "metadata": {},
   "outputs": [],
   "source": []
  },
  {
   "cell_type": "code",
   "execution_count": null,
   "metadata": {},
   "outputs": [],
   "source": []
  }
 ],
 "metadata": {
  "kernelspec": {
   "display_name": "Python 3",
   "language": "python",
   "name": "python3"
  },
  "language_info": {
   "codemirror_mode": {
    "name": "ipython",
    "version": 3
   },
   "file_extension": ".py",
   "mimetype": "text/x-python",
   "name": "python",
   "nbconvert_exporter": "python",
   "pygments_lexer": "ipython3",
   "version": "3.7.4"
  }
 },
 "nbformat": 4,
 "nbformat_minor": 2
}

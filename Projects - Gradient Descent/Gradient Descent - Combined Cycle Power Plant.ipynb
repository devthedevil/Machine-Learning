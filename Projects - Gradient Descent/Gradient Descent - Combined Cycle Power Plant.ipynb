{
 "cells": [
  {
   "cell_type": "code",
   "execution_count": 1,
   "metadata": {},
   "outputs": [],
   "source": [
    "import numpy as np\n",
    "import pandas as pd"
   ]
  },
  {
   "cell_type": "code",
   "execution_count": 2,
   "metadata": {},
   "outputs": [],
   "source": [
    "def step_grad(x_train,y_train,l_r,m):\n",
    "    n=len(x_train[0])\n",
    "    slope_m=np.zeros(n)\n",
    "    M=len(x_train)\n",
    "    for i in range(M):\n",
    "        x=x_train[i]\n",
    "        y=y_train[i]\n",
    "        for j in range(n):\n",
    "            slope_m[j] += (-2/M)*(y-(m*x).sum())*x[j]\n",
    "        \n",
    "    \n",
    "    for j in range(n):\n",
    "        m[j]=m[j]-l_r*slope_m[j]\n",
    "#     print(m)\n",
    "    return m\n",
    "    "
   ]
  },
  {
   "cell_type": "code",
   "execution_count": 3,
   "metadata": {},
   "outputs": [],
   "source": [
    "def GD(x_train,y_train,l_r,iter):\n",
    "    m=np.zeros(len(x_train[0]))\n",
    "    for i in range(iter):\n",
    "        m=step_grad(x_train,y_train,l_r,m)\n",
    "        if i%50==0:\n",
    "            print(i,'Cost:',cost(x_train,y_train,m))\n",
    "    return m"
   ]
  },
  {
   "cell_type": "code",
   "execution_count": 4,
   "metadata": {},
   "outputs": [],
   "source": [
    "def cost(x_train,y_train,m):\n",
    "    n=len(x_train[0])\n",
    "    total_cost=0\n",
    "    M=len(x_train)\n",
    "    for i in range(M):\n",
    "        total_cost+= (1/M)*(( y_train[i]- (m*x_train[i]).sum())**2)\n",
    "    return total_cost"
   ]
  },
  {
   "cell_type": "code",
   "execution_count": 5,
   "metadata": {},
   "outputs": [
    {
     "name": "stdout",
     "output_type": "stream",
     "text": [
      "0 Cost: 517.0593279226035\n",
      "5 Cost: 257.1399862222127\n",
      "10 Cost: 256.61440382907296\n",
      "15 Cost: 256.0902139130164\n",
      "20 Cost: 255.5674126090581\n",
      "25 Cost: 255.0459960631834\n",
      "30 Cost: 254.5259604323238\n",
      "35 Cost: 254.0073018843106\n",
      "40 Cost: 253.49001659785998\n"
     ]
    }
   ],
   "source": [
    "data_train=np.loadtxt(\"powerplant_train.csv\",delimiter=',')\n",
    "data_test=np.loadtxt(\"powerplant_test.csv\",delimiter=',')\n",
    "learning_rate=0.0000005\n",
    "iteration=10001\n",
    "# print(data_train)\n",
    "x_train=data_train[:,:-1]\n",
    "y_train=data_train[:,-1]\n",
    "\n",
    "x_train=np.append(x_train,np.ones((len(x_train),1)),axis=1)\n",
    "\n",
    "m=GD(x_train,y_train,learning_rate, iteration)\n",
    "\n",
    "x_test=data_test\n",
    "x_test=np.append(x_test,np.ones((len(x_test),1)),axis=1)\n",
    "\n",
    "N=len(x_test[0])\n",
    "M=len(x_test)\n",
    "y_pred=np.zeros(M)\n",
    "for i in range(M):\n",
    "    y_pred[i]=(m*x_test[i]).sum()\n",
    "        \n",
    "    \n",
    "np.savetxt(\"powerplant_pred1.csv\",y_pred,delimiter=',',fmt='%1.5f')\n",
    "\n",
    "    \n"
   ]
  },
  {
   "cell_type": "code",
   "execution_count": null,
   "metadata": {},
   "outputs": [],
   "source": []
  },
  {
   "cell_type": "code",
   "execution_count": null,
   "metadata": {},
   "outputs": [],
   "source": []
  }
 ],
 "metadata": {
  "kernelspec": {
   "display_name": "Python 3",
   "language": "python",
   "name": "python3"
  },
  "language_info": {
   "codemirror_mode": {
    "name": "ipython",
    "version": 3
   },
   "file_extension": ".py",
   "mimetype": "text/x-python",
   "name": "python",
   "nbconvert_exporter": "python",
   "pygments_lexer": "ipython3",
   "version": "3.7.4"
  }
 },
 "nbformat": 4,
 "nbformat_minor": 2
}

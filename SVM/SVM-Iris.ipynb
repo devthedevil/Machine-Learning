{
 "cells": [
  {
   "cell_type": "code",
   "execution_count": 1,
   "metadata": {},
   "outputs": [],
   "source": [
    "from sklearn import svm,datasets\n",
    "import numpy as np\n",
    "from sklearn.model_selection import train_test_split\n",
    "import matplotlib.pyplot as plt"
   ]
  },
  {
   "cell_type": "code",
   "execution_count": 2,
   "metadata": {},
   "outputs": [],
   "source": [
    "iris=datasets.load_iris()\n",
    "x=iris.data[:,0:2]\n",
    "y=iris.target"
   ]
  },
  {
   "cell_type": "code",
   "execution_count": 3,
   "metadata": {},
   "outputs": [],
   "source": [
    "x_train,x_test,y_train,y_test=train_test_split(x,y,random_state=2)"
   ]
  },
  {
   "cell_type": "code",
   "execution_count": 4,
   "metadata": {},
   "outputs": [
    {
     "data": {
      "text/plain": [
       "SVC(C=1.0, break_ties=False, cache_size=200, class_weight=None, coef0=0.0,\n",
       "    decision_function_shape='ovr', degree=3, gamma='scale', kernel='rbf',\n",
       "    max_iter=-1, probability=False, random_state=None, shrinking=True,\n",
       "    tol=0.001, verbose=False)"
      ]
     },
     "execution_count": 4,
     "metadata": {},
     "output_type": "execute_result"
    }
   ],
   "source": [
    "clf=svm.SVC()\n",
    "clf.fit(x_train,y_train)"
   ]
  },
  {
   "cell_type": "code",
   "execution_count": 5,
   "metadata": {},
   "outputs": [
    {
     "data": {
      "text/plain": [
       "0.8157894736842105"
      ]
     },
     "execution_count": 5,
     "metadata": {},
     "output_type": "execute_result"
    }
   ],
   "source": [
    "clf.score(x_test,y_test)"
   ]
  },
  {
   "cell_type": "code",
   "execution_count": 6,
   "metadata": {},
   "outputs": [],
   "source": [
    "def makegrid(x1,x2,h=0.02):\n",
    "    x1_min,x1_max=x1.min()-1,x1.max()+1\n",
    "    x2_min,x2_max=x2.min()-1,x2.max()+1\n",
    "    a=np.arange(x1_min,x1_max,h)\n",
    "    b=np.arange(x2_min,x2_max,h)\n",
    "    xx,yy=np.meshgrid(a,b)  #creates all possible combination of a and b\n",
    "    return xx,yy"
   ]
  },
  {
   "cell_type": "code",
   "execution_count": 7,
   "metadata": {},
   "outputs": [
    {
     "data": {
      "text/plain": [
       "(array([[0.  , 0.02, 0.04, ..., 3.94, 3.96, 3.98],\n",
       "        [0.  , 0.02, 0.04, ..., 3.94, 3.96, 3.98],\n",
       "        [0.  , 0.02, 0.04, ..., 3.94, 3.96, 3.98],\n",
       "        ...,\n",
       "        [0.  , 0.02, 0.04, ..., 3.94, 3.96, 3.98],\n",
       "        [0.  , 0.02, 0.04, ..., 3.94, 3.96, 3.98],\n",
       "        [0.  , 0.02, 0.04, ..., 3.94, 3.96, 3.98]]),\n",
       " array([[4.  , 4.  , 4.  , ..., 4.  , 4.  , 4.  ],\n",
       "        [4.02, 4.02, 4.02, ..., 4.02, 4.02, 4.02],\n",
       "        [4.04, 4.04, 4.04, ..., 4.04, 4.04, 4.04],\n",
       "        ...,\n",
       "        [6.94, 6.94, 6.94, ..., 6.94, 6.94, 6.94],\n",
       "        [6.96, 6.96, 6.96, ..., 6.96, 6.96, 6.96],\n",
       "        [6.98, 6.98, 6.98, ..., 6.98, 6.98, 6.98]]))"
      ]
     },
     "execution_count": 7,
     "metadata": {},
     "output_type": "execute_result"
    }
   ],
   "source": [
    "x1=np.array([1,3])\n",
    "x2=np.array([5,6])\n",
    "makegrid(x1,x2)"
   ]
  },
  {
   "cell_type": "code",
   "execution_count": 8,
   "metadata": {},
   "outputs": [
    {
     "data": {
      "image/png": "[encoded data removed]",
      "text/plain": [
       "<Figure size 432x288 with 1 Axes>"
      ]
     },
     "metadata": {
      "needs_background": "light"
     },
     "output_type": "display_data"
    }
   ],
   "source": [
    "xx,yy=makegrid(x[:,0],x[:,1])\n",
    "predictions=clf.predict(np.c_[xx.ravel(),yy.ravel()])\n",
    "plt.scatter(xx.ravel(),yy.ravel(),c=predictions)\n",
    "plt.show()\n",
    "# 3 different colours for 3 different classes\n",
    "# decision boundary shown"
   ]
  },
  {
   "cell_type": "markdown",
   "metadata": {},
   "source": [
    "# Linear Kernel"
   ]
  },
  {
   "cell_type": "code",
   "execution_count": 9,
   "metadata": {},
   "outputs": [
    {
     "data": {
      "text/plain": [
       "0.8157894736842105"
      ]
     },
     "execution_count": 9,
     "metadata": {},
     "output_type": "execute_result"
    }
   ],
   "source": [
    "clf1=svm.SVC(kernel='linear')\n",
    "clf1.fit(x_train,y_train)\n",
    "clf1.score(x_test,y_test)"
   ]
  },
  {
   "cell_type": "code",
   "execution_count": 10,
   "metadata": {},
   "outputs": [
    {
     "data": {
      "image/png": "[encoded data removed]",
      "text/plain": [
       "<Figure size 432x288 with 1 Axes>"
      ]
     },
     "metadata": {
      "needs_background": "light"
     },
     "output_type": "display_data"
    }
   ],
   "source": [
    "xx,yy=makegrid(x[:,0],x[:,1])\n",
    "predictions=clf1.predict(np.c_[xx.ravel(),yy.ravel()])\n",
    "plt.scatter(xx.ravel(),yy.ravel(),c=predictions)\n",
    "plt.show()\n",
    "# 3 different colours for 3 different classes\n",
    "# decision boundary shown"
   ]
  },
  {
   "cell_type": "code",
   "execution_count": 22,
   "metadata": {},
   "outputs": [
    {
     "data": {
      "text/plain": [
       "array([[4. , 4. , 4. , 4. , 4. , 4. , 4. , 4. , 4. , 4. ],\n",
       "       [4.2, 4.2, 4.2, 4.2, 4.2, 4.2, 4.2, 4.2, 4.2, 4.2],\n",
       "       [4.4, 4.4, 4.4, 4.4, 4.4, 4.4, 4.4, 4.4, 4.4, 4.4],\n",
       "       [4.6, 4.6, 4.6, 4.6, 4.6, 4.6, 4.6, 4.6, 4.6, 4.6],\n",
       "       [4.8, 4.8, 4.8, 4.8, 4.8, 4.8, 4.8, 4.8, 4.8, 4.8],\n",
       "       [5. , 5. , 5. , 5. , 5. , 5. , 5. , 5. , 5. , 5. ],\n",
       "       [5.2, 5.2, 5.2, 5.2, 5.2, 5.2, 5.2, 5.2, 5.2, 5.2],\n",
       "       [5.4, 5.4, 5.4, 5.4, 5.4, 5.4, 5.4, 5.4, 5.4, 5.4],\n",
       "       [5.6, 5.6, 5.6, 5.6, 5.6, 5.6, 5.6, 5.6, 5.6, 5.6],\n",
       "       [5.8, 5.8, 5.8, 5.8, 5.8, 5.8, 5.8, 5.8, 5.8, 5.8]])"
      ]
     },
     "execution_count": 22,
     "metadata": {},
     "output_type": "execute_result"
    }
   ],
   "source": [
    "a=np.arange(1,3,0.2)\n",
    "b=np.arange(4,6,0.2)\n",
    "xx,yy=np.meshgrid(a,b)\n",
    "# (x*y*x).shape[0]\n",
    "yy"
   ]
  }
 ],
 "metadata": {
  "kernelspec": {
   "display_name": "Python 3",
   "language": "python",
   "name": "python3"
  },
  "language_info": {
   "codemirror_mode": {
    "name": "ipython",
    "version": 3
   },
   "file_extension": ".py",
   "mimetype": "text/x-python",
   "name": "python",
   "nbconvert_exporter": "python",
   "pygments_lexer": "ipython3",
   "version": "3.7.6"
  }
 },
 "nbformat": 4,
 "nbformat_minor": 4
}
